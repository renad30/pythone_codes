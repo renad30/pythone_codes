{
  "nbformat": 4,
  "nbformat_minor": 0,
  "metadata": {
    "colab": {
      "provenance": [],
      "authorship_tag": "ABX9TyMtXc2+zKG7Ivwf6B7WIZY2",
      "include_colab_link": true
    },
    "kernelspec": {
      "name": "python3",
      "display_name": "Python 3"
    },
    "language_info": {
      "name": "python"
    }
  },
  "cells": [
    {
      "cell_type": "markdown",
      "metadata": {
        "id": "view-in-github",
        "colab_type": "text"
      },
      "source": [
        "<a href=\"https://colab.research.google.com/github/renad30/pythone_codes/blob/main/telephone_directory.ipynb\" target=\"_parent\"><img src=\"https://colab.research.google.com/assets/colab-badge.svg\" alt=\"Open In Colab\"/></a>"
      ]
    },
    {
      "cell_type": "code",
      "source": [
        "def telephone_directory(number):\n",
        "    directory = {\n",
        "        111: 'amal',\n",
        "        222: 'mohammed',\n",
        "        333: 'khadijah',\n",
        "        444: 'fisal'\n",
        "    }\n",
        "\n",
        "    if str(number).isdigit():  # Convert to string so we can use isdigit() function to make sure it all in digits\n",
        "        number = int(number)\n",
        "\n",
        "    if number in directory:\n",
        "        return directory[number]\n",
        "    elif str(number).isdigit():\n",
        "        return 'Number not found'\n",
        "    else:\n",
        "        return 'Invalid input'\n",
        "\n",
        "entered = telephone_directory(input(\"Enter a phone number: \"))\n",
        "print(entered)"
      ],
      "metadata": {
        "colab": {
          "base_uri": "https://localhost:8080/"
        },
        "id": "jRIYLvWZqpvJ",
        "outputId": "0c83a774-0f3e-41d4-a7ed-e7503bd03309"
      },
      "execution_count": 51,
      "outputs": [
        {
          "output_type": "stream",
          "name": "stdout",
          "text": [
            "Enter a phone number: 111\n",
            "amal\n"
          ]
        }
      ]
    }
  ]
}